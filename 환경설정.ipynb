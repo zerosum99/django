{
 "cells": [
  {
   "cell_type": "markdown",
   "metadata": {},
   "source": [
    "##  환경 설정\n",
    "\n",
    "http://www.incodom.kr/Jupyter_in_Django"
   ]
  },
  {
   "cell_type": "code",
   "execution_count": 1,
   "metadata": {},
   "outputs": [
    {
     "name": "stdout",
     "output_type": "stream",
     "text": [
      "Collecting django-extensions\n",
      "  Downloading https://files.pythonhosted.org/packages/bd/44/d54c3ea6239d1d00700defc272d28cc4551c399bcad99a5282b04e454f1b/django_extensions-2.2.5-py2.py3-none-any.whl (223kB)\n",
      "Requirement already satisfied: six>=1.2 in c:\\users\\dahlmoon\\anaconda3\\lib\\site-packages (from django-extensions) (1.13.0)\n",
      "Installing collected packages: django-extensions\n",
      "Successfully installed django-extensions-2.2.5\n"
     ]
    }
   ],
   "source": [
    "!pip install django-extensions"
   ]
  },
  {
   "cell_type": "markdown",
   "metadata": {},
   "source": [
    "## \n",
    "\n",
    "https://seulcode.tistory.com/105"
   ]
  },
  {
   "cell_type": "code",
   "execution_count": null,
   "metadata": {},
   "outputs": [],
   "source": []
  }
 ],
 "metadata": {
  "kernelspec": {
   "display_name": "Python 3",
   "language": "python",
   "name": "python3"
  },
  "language_info": {
   "codemirror_mode": {
    "name": "ipython",
    "version": 3
   },
   "file_extension": ".py",
   "mimetype": "text/x-python",
   "name": "python",
   "nbconvert_exporter": "python",
   "pygments_lexer": "ipython3",
   "version": "3.7.5"
  }
 },
 "nbformat": 4,
 "nbformat_minor": 2
}
